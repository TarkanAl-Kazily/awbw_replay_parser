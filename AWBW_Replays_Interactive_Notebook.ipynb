{
  "nbformat": 4,
  "nbformat_minor": 0,
  "metadata": {
    "colab": {
      "name": "AWBW Replays Interactive Notebook",
      "provenance": [],
      "authorship_tag": "ABX9TyOLPndxPSof/7etgmCB9CmJ",
      "include_colab_link": true
    },
    "kernelspec": {
      "name": "python3",
      "display_name": "Python 3"
    },
    "language_info": {
      "name": "python"
    }
  },
  "cells": [
    {
      "cell_type": "markdown",
      "metadata": {
        "id": "view-in-github",
        "colab_type": "text"
      },
      "source": [
        "<a href=\"https://colab.research.google.com/github/TarkanAl-Kazily/awbw_replay_parser/blob/main/AWBW_Replays_Interactive_Notebook.ipynb\" target=\"_parent\"><img src=\"https://colab.research.google.com/assets/colab-badge.svg\" alt=\"Open In Colab\"/></a>"
      ]
    },
    {
      "cell_type": "markdown",
      "source": [
        "# Welcome to my AWBW Replay Parser project!\n",
        "\n",
        "This interactive notebook will introduce you to the replay parsing library, and demonstrate how to use it to learn more about your matches.\n",
        "\n",
        "This notebook and the remaining source code is all hosted on Github here: [https://github.com/TarkanAl-Kazily/awbw_replay_parser](https://github.com/TarkanAl-Kazily/awbw_replay_parser)"
      ],
      "metadata": {
        "id": "vLnEGbkCr5wE"
      }
    },
    {
      "cell_type": "code",
      "execution_count": null,
      "metadata": {
        "id": "c6b00ryyryGl"
      },
      "outputs": [],
      "source": [
        "import awbw, replay\n",
        "\n"
      ]
    }
  ]
}