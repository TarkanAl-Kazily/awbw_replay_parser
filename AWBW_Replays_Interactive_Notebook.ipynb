{
  "nbformat": 4,
  "nbformat_minor": 0,
  "metadata": {
    "colab": {
      "name": "AWBW Replays Interactive Notebook",
      "provenance": [],
      "authorship_tag": "ABX9TyOprMFz1wV0xAjbCdsbtySy",
      "include_colab_link": true
    },
    "kernelspec": {
      "name": "python3",
      "display_name": "Python 3"
    },
    "language_info": {
      "name": "python"
    }
  },
  "cells": [
    {
      "cell_type": "markdown",
      "metadata": {
        "id": "view-in-github",
        "colab_type": "text"
      },
      "source": [
        "<a href=\"https://colab.research.google.com/github/TarkanAl-Kazily/awbw_replay_parser/blob/main/AWBW_Replays_Interactive_Notebook.ipynb\" target=\"_parent\"><img src=\"https://colab.research.google.com/assets/colab-badge.svg\" alt=\"Open In Colab\"/></a>"
      ]
    },
    {
      "cell_type": "markdown",
      "source": [
        "# Welcome to my AWBW Replay Parser project!\n",
        "\n",
        "This interactive notebook will introduce you to the replay parsing library, and demonstrate how to use it to learn more about your matches.\n",
        "\n",
        "This notebook and the remaining source code is all hosted on Github here: [https://github.com/TarkanAl-Kazily/awbw_replay_parser](https://github.com/TarkanAl-Kazily/awbw_replay_parser)\n",
        "\n",
        "## Prerequisites\n",
        "\n",
        "Ideally to use this notebook, you have some familiarity with Python and matplotlib if you wish to customize the displayed data you are analyzing. If you wish to contribute and make changes to this notebook or the repo itself, you will need a Github account and make a pull request (following the [contribution guide](https://github.com/TarkanAl-Kazily/awbw_replay_parser))\n",
        "\n",
        "You will also need an AWBW Replay file that conforms to the newer .zip replay format. To access AWBW Replays, you must have an AWBW account and download them before they are deleted from the site. Because an account is required, it's currently not possible to automatically download replays through this notebook."
      ],
      "metadata": {
        "id": "vLnEGbkCr5wE"
      }
    },
    {
      "cell_type": "code",
      "execution_count": 7,
      "metadata": {
        "id": "c6b00ryyryGl",
        "outputId": "541f062d-2c90-4ab0-f18a-616d78c90c18",
        "colab": {
          "base_uri": "https://localhost:8080/"
        }
      },
      "outputs": [
        {
          "output_type": "stream",
          "name": "stdout",
          "text": [
            "--2021-12-29 20:22:20--  https://awbw.amarriner.com/replay_download.php?games_id=526198\n",
            "Resolving awbw.amarriner.com (awbw.amarriner.com)... 165.227.82.216\n",
            "Connecting to awbw.amarriner.com (awbw.amarriner.com)|165.227.82.216|:443... connected.\n",
            "HTTP request sent, awaiting response... 200 OK\n",
            "Length: unspecified [text/html]\n",
            "Saving to: ‘526198.zip’\n",
            "\n",
            "526198.zip              [ <=>                ]       0  --.-KB/s    in 0s      \n",
            "\n",
            "2021-12-29 20:22:21 (0.00 B/s) - ‘526198.zip’ saved [0]\n",
            "\n"
          ]
        }
      ],
      "source": [
        "#!git clone https://github.com/TarkanAl-Kazily/awbw_replay_parser.git\n"
      ]
    }
  ]
}