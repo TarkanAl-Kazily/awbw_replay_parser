{
  "nbformat": 4,
  "nbformat_minor": 0,
  "metadata": {
    "colab": {
      "name": "AWBW Replays Interactive Notebook",
      "provenance": [],
      "include_colab_link": true
    },
    "kernelspec": {
      "name": "python3",
      "display_name": "Python 3"
    },
    "language_info": {
      "name": "python"
    }
  },
  "cells": [
    {
      "cell_type": "markdown",
      "metadata": {
        "id": "view-in-github",
        "colab_type": "text"
      },
      "source": [
        "<a href=\"https://colab.research.google.com/github/TarkanAl-Kazily/awbw_replay_parser/blob/main/AWBW_Replays_Interactive_Notebook.ipynb\" target=\"_parent\"><img src=\"https://colab.research.google.com/assets/colab-badge.svg\" alt=\"Open In Colab\"/></a>"
      ]
    },
    {
      "cell_type": "markdown",
      "source": [
        "# Welcome to my AWBW Replay Parser project!\n",
        "\n",
        "This interactive notebook will introduce you to the replay parsing library, and demonstrate how to use it to learn more about your matches.\n",
        "\n",
        "This notebook and the source code is all hosted on Github here: [https://github.com/TarkanAl-Kazily/awbw_replay_parser](https://github.com/TarkanAl-Kazily/awbw_replay_parser)\n",
        "\n",
        "## Prerequisites\n",
        "\n",
        "You will need need to have an AWBW Replay file that conforms to the newer .zip replay format. To access AWBW Replays, you must have an AWBW account and download them before they are deleted from the site. Because an account is required, it's currently not possible to automatically download replays through this notebook. Older replays _might_ work, but the results may be inaccurate.\n",
        "\n",
        "Ideally to fully use this notebook, you have some familiarity with Python and matplotlib to to customize the displayed data from your replay. If you wish to contribute and make changes to this notebook or the repo itself, you will need a Github account and make a pull request (following the [contribution guide](https://github.com/TarkanAl-Kazily/awbw_replay_parser/blob/main/CONTRIBUTING.md)).\n"
      ],
      "metadata": {
        "id": "vLnEGbkCr5wE"
      }
    },
    {
      "cell_type": "markdown",
      "source": [
        "## Notebook Setup\n",
        "\n",
        "In order to use the `awbw_replay_parser` code from Google Colab, we first have to clone the repository and install any missing Python modules. This block only needs to be ran once.\n",
        "\n",
        "__IMPORTANT__: Restart the kernel after running this step - __Runtime -> Restart Runtime__ or __Ctrl+M+.__\n",
        "\n",
        "If you need to install any additional Python modules, you can do so directly here with `!pip install <module>`. Note that at the time of writing, Google Colab's Python kernel version is fixed to Python 3.7.\n",
        "\n",
        "You should be able to safely restart the Python kernel at anytime afterwards without needing to rerun this step. You only need to rerun this step if you want to pull updated changes from the Github repository."
      ],
      "metadata": {
        "id": "XVL-rLNjqWh9"
      }
    },
    {
      "cell_type": "code",
      "execution_count": 2,
      "metadata": {
        "id": "c6b00ryyryGl",
        "outputId": "85f8d29f-aa3e-46e0-cdc6-7751bb041d46",
        "colab": {
          "base_uri": "https://localhost:8080/",
          "height": 1000
        }
      },
      "outputs": [
        {
          "output_type": "stream",
          "name": "stdout",
          "text": [
            "Enter Github User Token:··········\n",
            "Cloning into 'awbw_replay_parser'...\n",
            "remote: Enumerating objects: 204, done.\u001b[K\n",
            "remote: Counting objects: 100% (204/204), done.\u001b[K\n",
            "remote: Compressing objects: 100% (144/144), done.\u001b[K\n",
            "remote: Total 204 (delta 100), reused 126 (delta 46), pack-reused 0\u001b[K\n",
            "Receiving objects: 100% (204/204), 312.56 KiB | 3.96 MiB/s, done.\n",
            "Resolving deltas: 100% (100/100), done.\n",
            "Collecting matplotlib==3.5.1\n",
            "  Downloading matplotlib-3.5.1-cp37-cp37m-manylinux_2_5_x86_64.manylinux1_x86_64.whl (11.2 MB)\n",
            "\u001b[K     |████████████████████████████████| 11.2 MB 5.3 MB/s \n",
            "\u001b[?25hCollecting numpy==1.21.4\n",
            "  Downloading numpy-1.21.4-cp37-cp37m-manylinux_2_12_x86_64.manylinux2010_x86_64.whl (15.7 MB)\n",
            "\u001b[K     |████████████████████████████████| 15.7 MB 39.7 MB/s \n",
            "\u001b[?25hCollecting parse==1.19.0\n",
            "  Downloading parse-1.19.0.tar.gz (30 kB)\n",
            "Collecting phpserialize==1.3\n",
            "  Downloading phpserialize-1.3.tar.gz (7.5 kB)\n",
            "Requirement already satisfied: cycler>=0.10 in /usr/local/lib/python3.7/dist-packages (from matplotlib==3.5.1->-r awbw_replay_parser/requirements.txt (line 1)) (0.11.0)\n",
            "Requirement already satisfied: kiwisolver>=1.0.1 in /usr/local/lib/python3.7/dist-packages (from matplotlib==3.5.1->-r awbw_replay_parser/requirements.txt (line 1)) (1.3.2)\n",
            "Collecting fonttools>=4.22.0\n",
            "  Downloading fonttools-4.28.5-py3-none-any.whl (890 kB)\n",
            "\u001b[K     |████████████████████████████████| 890 kB 52.2 MB/s \n",
            "\u001b[?25hRequirement already satisfied: pillow>=6.2.0 in /usr/local/lib/python3.7/dist-packages (from matplotlib==3.5.1->-r awbw_replay_parser/requirements.txt (line 1)) (7.1.2)\n",
            "Requirement already satisfied: python-dateutil>=2.7 in /usr/local/lib/python3.7/dist-packages (from matplotlib==3.5.1->-r awbw_replay_parser/requirements.txt (line 1)) (2.8.2)\n",
            "Requirement already satisfied: packaging>=20.0 in /usr/local/lib/python3.7/dist-packages (from matplotlib==3.5.1->-r awbw_replay_parser/requirements.txt (line 1)) (21.3)\n",
            "Requirement already satisfied: pyparsing>=2.2.1 in /usr/local/lib/python3.7/dist-packages (from matplotlib==3.5.1->-r awbw_replay_parser/requirements.txt (line 1)) (3.0.6)\n",
            "Requirement already satisfied: six>=1.5 in /usr/local/lib/python3.7/dist-packages (from python-dateutil>=2.7->matplotlib==3.5.1->-r awbw_replay_parser/requirements.txt (line 1)) (1.15.0)\n",
            "Building wheels for collected packages: parse, phpserialize\n",
            "  Building wheel for parse (setup.py) ... \u001b[?25l\u001b[?25hdone\n",
            "  Created wheel for parse: filename=parse-1.19.0-py3-none-any.whl size=24591 sha256=95a512d72954a81a773dcd191fc0f6b3b7ce2088e85205b2885b188e08739a73\n",
            "  Stored in directory: /root/.cache/pip/wheels/9c/aa/cc/f2228050ccb40f22144b073f15a2c84f11204f29fc0dce028e\n",
            "  Building wheel for phpserialize (setup.py) ... \u001b[?25l\u001b[?25hdone\n",
            "  Created wheel for phpserialize: filename=phpserialize-1.3-py3-none-any.whl size=9491 sha256=7d9c90e80fb491e561ab7bf682016217658ef0b2f47b58d0783233080363633f\n",
            "  Stored in directory: /root/.cache/pip/wheels/5c/59/58/24256dac3bb9c268a8fb067bd7a615ed29d1c3822e77cd2f5d\n",
            "Successfully built parse phpserialize\n",
            "Installing collected packages: numpy, fonttools, phpserialize, parse, matplotlib\n",
            "  Attempting uninstall: numpy\n",
            "    Found existing installation: numpy 1.19.5\n",
            "    Uninstalling numpy-1.19.5:\n",
            "      Successfully uninstalled numpy-1.19.5\n",
            "  Attempting uninstall: matplotlib\n",
            "    Found existing installation: matplotlib 3.2.2\n",
            "    Uninstalling matplotlib-3.2.2:\n",
            "      Successfully uninstalled matplotlib-3.2.2\n",
            "\u001b[31mERROR: pip's dependency resolver does not currently take into account all the packages that are installed. This behaviour is the source of the following dependency conflicts.\n",
            "yellowbrick 1.3.post1 requires numpy<1.20,>=1.16.0, but you have numpy 1.21.4 which is incompatible.\n",
            "datascience 0.10.6 requires folium==0.2.1, but you have folium 0.8.3 which is incompatible.\n",
            "albumentations 0.1.12 requires imgaug<0.2.7,>=0.2.5, but you have imgaug 0.2.9 which is incompatible.\u001b[0m\n",
            "Successfully installed fonttools-4.28.5 matplotlib-3.5.1 numpy-1.21.4 parse-1.19.0 phpserialize-1.3\n"
          ]
        },
        {
          "output_type": "display_data",
          "data": {
            "application/vnd.colab-display-data+json": {
              "pip_warning": {
                "packages": [
                  "matplotlib",
                  "mpl_toolkits",
                  "numpy"
                ]
              }
            }
          },
          "metadata": {}
        },
        {
          "output_type": "stream",
          "name": "stdout",
          "text": [
            "/usr/lib/python3.7/distutils/dist.py:274: UserWarning: Unknown distribution option: 'install_requires'\n",
            "  warnings.warn(msg)\n",
            "running install\n",
            "running build\n",
            "running build_py\n",
            "creating build\n",
            "creating build/lib\n",
            "creating build/lib/awbw_replay\n",
            "copying awbw_replay/replay.py -> build/lib/awbw_replay\n",
            "copying awbw_replay/test_game.py -> build/lib/awbw_replay\n",
            "copying awbw_replay/awbw.py -> build/lib/awbw_replay\n",
            "copying awbw_replay/test_awbw.py -> build/lib/awbw_replay\n",
            "copying awbw_replay/test_replay.py -> build/lib/awbw_replay\n",
            "copying awbw_replay/__init__.py -> build/lib/awbw_replay\n",
            "copying awbw_replay/game.py -> build/lib/awbw_replay\n",
            "running install_lib\n",
            "creating /usr/local/lib/python3.7/dist-packages/awbw_replay\n",
            "copying build/lib/awbw_replay/replay.py -> /usr/local/lib/python3.7/dist-packages/awbw_replay\n",
            "copying build/lib/awbw_replay/test_game.py -> /usr/local/lib/python3.7/dist-packages/awbw_replay\n",
            "copying build/lib/awbw_replay/awbw.py -> /usr/local/lib/python3.7/dist-packages/awbw_replay\n",
            "copying build/lib/awbw_replay/test_awbw.py -> /usr/local/lib/python3.7/dist-packages/awbw_replay\n",
            "copying build/lib/awbw_replay/test_replay.py -> /usr/local/lib/python3.7/dist-packages/awbw_replay\n",
            "copying build/lib/awbw_replay/__init__.py -> /usr/local/lib/python3.7/dist-packages/awbw_replay\n",
            "copying build/lib/awbw_replay/game.py -> /usr/local/lib/python3.7/dist-packages/awbw_replay\n",
            "byte-compiling /usr/local/lib/python3.7/dist-packages/awbw_replay/replay.py to replay.cpython-37.pyc\n",
            "byte-compiling /usr/local/lib/python3.7/dist-packages/awbw_replay/test_game.py to test_game.cpython-37.pyc\n",
            "byte-compiling /usr/local/lib/python3.7/dist-packages/awbw_replay/awbw.py to awbw.cpython-37.pyc\n",
            "byte-compiling /usr/local/lib/python3.7/dist-packages/awbw_replay/test_awbw.py to test_awbw.cpython-37.pyc\n",
            "byte-compiling /usr/local/lib/python3.7/dist-packages/awbw_replay/test_replay.py to test_replay.cpython-37.pyc\n",
            "byte-compiling /usr/local/lib/python3.7/dist-packages/awbw_replay/__init__.py to __init__.cpython-37.pyc\n",
            "byte-compiling /usr/local/lib/python3.7/dist-packages/awbw_replay/game.py to game.cpython-37.pyc\n",
            "running install_egg_info\n",
            "Writing /usr/local/lib/python3.7/dist-packages/AWBW_Replay-0.1.egg-info\n"
          ]
        }
      ],
      "source": [
        "# TODO: Remove the Token steps when the Repo is made public\n",
        "\n",
        "from getpass import getpass\n",
        "import os\n",
        "\n",
        "TOKEN = getpass('Enter Github User Token:')\n",
        "os.environ['TOKEN'] = TOKEN\n",
        "os.environ['REPO'] = \"github.com/TarkanAl-Kazily/awbw_replay_parser.git\"\n",
        "os.environ['BRANCH'] = \"main\"\n",
        "\n",
        "# Clone the awbw_replay_parser repository\n",
        "!cd /content/\n",
        "!rm -rf awbw_replay_parser\n",
        "!git clone --branch $BRANCH https://$TOKEN@$REPO\n",
        "!pip install -r awbw_replay_parser/requirements.txt\n",
        "\n",
        "# Install the awbw_replay module into our runtime\n",
        "!cd awbw_replay_parser && python setup.py install"
      ]
    },
    {
      "cell_type": "markdown",
      "source": [
        "## Parsing a Replay\n",
        "\n",
        "Now that the codebase is downloaded and the notebook is setup, we can start analyzing replays. To analyze your own replay, use the sidebar and upload your replay (in its original `.zip` format). Alternatively, there are a few example replays included in the repository under `awbw_replay_parser/replays/`. With Google Colab, you can also mount your Google Drive to access cloud files directly."
      ],
      "metadata": {
        "id": "4jbT_-H2rhHK"
      }
    },
    {
      "cell_type": "code",
      "source": [
        "import awbw_replay.awbw as awbw\n",
        "import awbw_replay.replay as replay\n",
        "import sys\n",
        "sys.path.append(\"awbw_replay_parser\")\n",
        "import main\n",
        "\n",
        "with replay.AWBWReplay(\"awbw_replay_parser/replays/standard_replay.zip\") as replay:\n",
        "  main.test_replay(replay, show_plot=True)\n"
      ],
      "metadata": {
        "id": "938Gckk77TvG",
        "outputId": "6dc57dcd-6d47-4b80-bab2-a8d4fa844f1c",
        "colab": {
          "base_uri": "https://localhost:8080/",
          "height": 300
        }
      },
      "execution_count": 1,
      "outputs": [
        {
          "output_type": "stream",
          "name": "stdout",
          "text": [
            "Resign action\n",
            "IMPLEMENT ME\n"
          ]
        },
        {
          "output_type": "display_data",
          "data": {
            "image/png": "[encoded data removed]",
            "text/plain": [
              "<Figure size 432x288 with 1 Axes>"
            ]
          },
          "metadata": {
            "needs_background": "light"
          }
        }
      ]
    }
  ]
}