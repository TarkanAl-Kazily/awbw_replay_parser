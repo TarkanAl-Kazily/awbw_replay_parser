{
  "nbformat": 4,
  "nbformat_minor": 0,
  "metadata": {
    "colab": {
      "name": "AWBW Replays Interactive Notebook",
      "provenance": [],
      "authorship_tag": "ABX9TyP19xJqQ26V8t6f8Jda3/QP",
      "include_colab_link": true
    },
    "kernelspec": {
      "name": "python3",
      "display_name": "Python 3"
    },
    "language_info": {
      "name": "python"
    }
  },
  "cells": [
    {
      "cell_type": "markdown",
      "metadata": {
        "id": "view-in-github",
        "colab_type": "text"
      },
      "source": [
        "<a href=\"https://colab.research.google.com/github/TarkanAl-Kazily/awbw_replay_parser/blob/main/AWBW_Replays_Interactive_Notebook.ipynb\" target=\"_parent\"><img src=\"https://colab.research.google.com/assets/colab-badge.svg\" alt=\"Open In Colab\"/></a>"
      ]
    },
    {
      "cell_type": "markdown",
      "source": [
        "# Welcome to my AWBW Replay Parser project!\n",
        "\n",
        "This interactive notebook will introduce you to the replay parsing library, and demonstrate how to use it to learn more about your matches.\n",
        "\n",
        "This notebook and the remaining source code is all hosted on Github here: [https://github.com/TarkanAl-Kazily/awbw_replay_parser](https://github.com/TarkanAl-Kazily/awbw_replay_parser)\n",
        "\n",
        "## Prerequisites\n",
        "\n",
        "Ideally to use this notebook, you have some familiarity with Python and matplotlib if you wish to customize the displayed data you are analyzing. If you wish to contribute and make changes to this notebook or the repo itself, you will need a Github account and make a pull request (following the [contribution guide](https://github.com/TarkanAl-Kazily/awbw_replay_parser))\n",
        "\n",
        "You will also need an AWBW Replay file that conforms to the newer .zip replay format. To access AWBW Replays, you must have an AWBW account and download them before they are deleted from the site. Because an account is required, it's currently not possible to automatically download replays through this notebook."
      ],
      "metadata": {
        "id": "vLnEGbkCr5wE"
      }
    },
    {
      "cell_type": "code",
      "execution_count": 4,
      "metadata": {
        "id": "c6b00ryyryGl",
        "outputId": "61a3e932-af16-400c-db32-2d7ec027f6a5",
        "colab": {
          "base_uri": "https://localhost:8080/"
        }
      },
      "outputs": [
        {
          "output_type": "stream",
          "name": "stdout",
          "text": [
            "Enter Github User Token:··········\n",
            "Cloning into 'awbw_replay_parser'...\n",
            "remote: Enumerating objects: 170, done.\u001b[K\n",
            "remote: Counting objects: 100% (170/170), done.\u001b[K\n",
            "remote: Compressing objects: 100% (118/118), done.\u001b[K\n",
            "remote: Total 170 (delta 78), reused 111 (delta 39), pack-reused 0\u001b[K\n",
            "Receiving objects: 100% (170/170), 290.80 KiB | 8.08 MiB/s, done.\n",
            "Resolving deltas: 100% (78/78), done.\n",
            "Requirement already satisfied: matplotlib==3.5.1 in /usr/local/lib/python3.7/dist-packages (from -r awbw_replay_parser/requirements.txt (line 1)) (3.5.1)\n",
            "Requirement already satisfied: numpy==1.21.4 in /usr/local/lib/python3.7/dist-packages (from -r awbw_replay_parser/requirements.txt (line 2)) (1.21.4)\n",
            "Requirement already satisfied: parse==1.19.0 in /usr/local/lib/python3.7/dist-packages (from -r awbw_replay_parser/requirements.txt (line 3)) (1.19.0)\n",
            "Requirement already satisfied: phpserialize==1.3 in /usr/local/lib/python3.7/dist-packages (from -r awbw_replay_parser/requirements.txt (line 4)) (1.3)\n",
            "Requirement already satisfied: fonttools>=4.22.0 in /usr/local/lib/python3.7/dist-packages (from matplotlib==3.5.1->-r awbw_replay_parser/requirements.txt (line 1)) (4.28.5)\n",
            "Requirement already satisfied: packaging>=20.0 in /usr/local/lib/python3.7/dist-packages (from matplotlib==3.5.1->-r awbw_replay_parser/requirements.txt (line 1)) (21.3)\n",
            "Requirement already satisfied: python-dateutil>=2.7 in /usr/local/lib/python3.7/dist-packages (from matplotlib==3.5.1->-r awbw_replay_parser/requirements.txt (line 1)) (2.8.2)\n",
            "Requirement already satisfied: cycler>=0.10 in /usr/local/lib/python3.7/dist-packages (from matplotlib==3.5.1->-r awbw_replay_parser/requirements.txt (line 1)) (0.11.0)\n",
            "Requirement already satisfied: pyparsing>=2.2.1 in /usr/local/lib/python3.7/dist-packages (from matplotlib==3.5.1->-r awbw_replay_parser/requirements.txt (line 1)) (3.0.6)\n",
            "Requirement already satisfied: pillow>=6.2.0 in /usr/local/lib/python3.7/dist-packages (from matplotlib==3.5.1->-r awbw_replay_parser/requirements.txt (line 1)) (7.1.2)\n",
            "Requirement already satisfied: kiwisolver>=1.0.1 in /usr/local/lib/python3.7/dist-packages (from matplotlib==3.5.1->-r awbw_replay_parser/requirements.txt (line 1)) (1.3.2)\n",
            "Requirement already satisfied: six>=1.5 in /usr/local/lib/python3.7/dist-packages (from python-dateutil>=2.7->matplotlib==3.5.1->-r awbw_replay_parser/requirements.txt (line 1)) (1.15.0)\n"
          ]
        }
      ],
      "source": [
        "# TODO: Remove these steps when the Repo is made public\n",
        "\n",
        "from getpass import getpass\n",
        "import os\n",
        "\n",
        "TOKEN = getpass('Enter Github User Token:')\n",
        "os.environ['TOKEN'] = TOKEN\n",
        "\n",
        "!cd /content/\n",
        "!rm -rf awbw_replay_parser\n",
        "!git clone https://$TOKEN@github.com/TarkanAl-Kazily/awbw_replay_parser.git\n",
        "\n",
        "!pip install -r awbw_replay_parser/requirements.txt"
      ]
    },
    {
      "cell_type": "code",
      "source": [
        "import sys\n",
        "sys.path.append(\"/content/awbw_replay_parser\")\n",
        "import awbw, replay, main\n",
        "\n",
        "with replay.AWBWReplay(\"526993.zip\") as replay:\n",
        "  main.test_replay(replay, show_plot=True)\n"
      ],
      "metadata": {
        "id": "938Gckk77TvG",
        "outputId": "4dda392b-980f-4a3f-9bdb-92ecba68f218",
        "colab": {
          "base_uri": "https://localhost:8080/",
          "height": 369
        }
      },
      "execution_count": 5,
      "outputs": [
        {
          "output_type": "stream",
          "name": "stdout",
          "text": [
            "Power action\n",
            "IMPLEMENT ME\n",
            "Power action\n",
            "IMPLEMENT ME\n",
            "Resign action\n",
            "IMPLEMENT ME\n"
          ]
        },
        {
          "output_type": "display_data",
          "data": {
            "image/png": "[encoded data removed]",
            "text/plain": [
              "<Figure size 432x288 with 1 Axes>"
            ]
          },
          "metadata": {
            "needs_background": "light"
          }
        }
      ]
    }
  ]
}