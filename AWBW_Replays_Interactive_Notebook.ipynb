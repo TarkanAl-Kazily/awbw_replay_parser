{
  "nbformat": 4,
  "nbformat_minor": 0,
  "metadata": {
    "colab": {
      "name": "AWBW Replays Interactive Notebook",
      "provenance": [],
      "mount_file_id": "https://github.com/TarkanAl-Kazily/awbw_replay_parser/blob/main/AWBW_Replays_Interactive_Notebook.ipynb",
      "authorship_tag": "ABX9TyNO1eJ42LUTZYziGNNspVUw",
      "include_colab_link": true
    },
    "kernelspec": {
      "name": "python3",
      "display_name": "Python 3"
    },
    "language_info": {
      "name": "python"
    }
  },
  "cells": [
    {
      "cell_type": "markdown",
      "metadata": {
        "id": "view-in-github",
        "colab_type": "text"
      },
      "source": [
        "<a href=\"https://colab.research.google.com/github/TarkanAl-Kazily/awbw_replay_parser/blob/setup-module/AWBW_Replays_Interactive_Notebook.ipynb\" target=\"_parent\"><img src=\"https://colab.research.google.com/assets/colab-badge.svg\" alt=\"Open In Colab\"/></a>"
      ]
    },
    {
      "cell_type": "markdown",
      "source": [
        "# Welcome to my AWBW Replay Parser project!\n",
        "\n",
        "This interactive notebook will introduce you to the replay parsing library, and demonstrate how to use it to learn more about your matches.\n",
        "\n",
        "This notebook and the source code is all hosted on Github here: [https://github.com/TarkanAl-Kazily/awbw_replay_parser](https://github.com/TarkanAl-Kazily/awbw_replay_parser)\n",
        "\n",
        "## Prerequisites\n",
        "\n",
        "You will need need to have an AWBW Replay file that conforms to the newer .zip replay format. To access AWBW Replays, you must have an AWBW account and download them before they are deleted from the site. Because an account is required, it's currently not possible to automatically download replays through this notebook. Older replays _might_ work, but the results may be inaccurate.\n",
        "\n",
        "Ideally to fully use this notebook, you have some familiarity with Python and matplotlib to to customize the displayed data from your replay. If you wish to contribute and make changes to this notebook or the repo itself, you will need a Github account and make a pull request (following the [contribution guide](https://github.com/TarkanAl-Kazily/awbw_replay_parser/blob/main/CONTRIBUTING.md)).\n"
      ],
      "metadata": {
        "id": "vLnEGbkCr5wE"
      }
    },
    {
      "cell_type": "markdown",
      "source": [
        "## Notebook Setup\n",
        "\n",
        "In order to use the `awbw_replay_parser` code from Google Colab, we first have to clone the repository and install any missing Python modules. This block only needs to be ran once. Follow the directions to restart the kernel to take advantage of the newly installed Python modules.\n",
        "\n",
        "If you need to install any additional Python modules, you can do so directly here with `!pip install <module>`. Note that at the time of writing, Google Colab's Python kernel version is fixed to Python 3.7.\n",
        "\n",
        "You should be able to safely restart the Python kernel at anytime without needing to rerun this step. You only need to rerun this step if you want to pull updated changes from the Github repository."
      ],
      "metadata": {
        "id": "XVL-rLNjqWh9"
      }
    },
    {
      "cell_type": "code",
      "execution_count": null,
      "metadata": {
        "id": "c6b00ryyryGl"
      },
      "outputs": [],
      "source": [
        "# TODO: Remove the Token steps when the Repo is made public\n",
        "\n",
        "from getpass import getpass\n",
        "import os\n",
        "\n",
        "TOKEN = getpass('Enter Github User Token:')\n",
        "os.environ['TOKEN'] = TOKEN\n",
        "os.environ['REPO'] = \"github.com/TarkanAl-Kazily/awbw_replay_parser.git\"\n",
        "os.environ['BRANCH'] = \"setup-module\"\n",
        "\n",
        "# Clone the awbw_replay_parser repository\n",
        "!cd /content/\n",
        "!rm -rf awbw_replay_parser\n",
        "!git clone --branch $BRANCH https://$TOKEN@$REPO\n",
        "!pip install -r awbw_replay_parser/requirements.txt\n",
        "\n",
        "# Install the awbw_replay module into our runtime\n",
        "!cd awbw_replay_parser && python setup.py install"
      ]
    },
    {
      "cell_type": "markdown",
      "source": [
        "## Parsing a Replay\n",
        "\n",
        "Now that the codebase is downloaded and the notebook is setup, we can start analyzing replays. To analyze your own replay, use the sidebar and upload your replay (in its original `.zip` format). Alternatively, there are a few example replays included in the repository under `awbw_replay_parser/replays/`. With Google Colab, you can also mount your Google Drive to access cloud files directly."
      ],
      "metadata": {
        "id": "4jbT_-H2rhHK"
      }
    },
    {
      "cell_type": "code",
      "source": [
        "import awbw_replay.awbw as awbw\n",
        "import awbw_replay.replay as replay\n",
        "import sys\n",
        "sys.path.append(\"awbw_replay_parser\")\n",
        "import main\n",
        "\n",
        "with replay.AWBWReplay(\"526988.zip\") as replay:\n",
        "  main.test_replay(replay, show_plot=True)\n"
      ],
      "metadata": {
        "id": "938Gckk77TvG",
        "outputId": "8c5e7498-6bad-4b2c-eeb2-12262a6819b9",
        "colab": {
          "base_uri": "https://localhost:8080/",
          "height": 439
        }
      },
      "execution_count": 13,
      "outputs": [
        {
          "output_type": "stream",
          "name": "stdout",
          "text": [
            "Power action\n",
            "IMPLEMENT ME\n",
            "Power action\n",
            "IMPLEMENT ME\n",
            "Power action\n",
            "IMPLEMENT ME\n",
            "Power action\n",
            "IMPLEMENT ME\n",
            "Resign action\n",
            "IMPLEMENT ME\n"
          ]
        },
        {
          "output_type": "display_data",
          "data": {
            "image/png": "[encoded data removed]",
            "text/plain": [
              "<Figure size 432x288 with 1 Axes>"
            ]
          },
          "metadata": {
            "needs_background": "light"
          }
        }
      ]
    }
  ]
}